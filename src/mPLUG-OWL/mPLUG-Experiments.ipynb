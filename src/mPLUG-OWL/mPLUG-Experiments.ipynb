{
 "cells": [
  {
   "cell_type": "markdown",
   "id": "510b3ad1",
   "metadata": {},
   "source": [
    "# Imports"
   ]
  },
  {
   "cell_type": "code",
   "execution_count": 1,
   "id": "f799caa2",
   "metadata": {},
   "outputs": [],
   "source": [
    "import os\n",
    "os.environ['TRANSFORMERS_CACHE'] = '/data/peskine/tmp/'\n",
    "os.environ[\"CUDA_VISIBLE_DEVICES\"]=\"1\""
   ]
  },
  {
   "cell_type": "code",
   "execution_count": 117,
   "id": "7081a118",
   "metadata": {},
   "outputs": [],
   "source": [
    "from PIL import Image\n",
    "Image.MAX_IMAGE_PIXELS = None\n",
    "import torch\n",
    "from tqdm import tqdm, trange\n",
    "import json\n",
    "from transformers import AutoTokenizer\n",
    "from mplug_owl.modeling_mplug_owl import MplugOwlForConditionalGeneration\n",
    "from mplug_owl.processing_mplug_owl import MplugOwlImageProcessor, MplugOwlProcessor\n",
    "import requests"
   ]
  },
  {
   "cell_type": "code",
   "execution_count": 130,
   "id": "682e58ff",
   "metadata": {},
   "outputs": [],
   "source": [
    "import pandas as pd"
   ]
  },
  {
   "cell_type": "code",
   "execution_count": 189,
   "id": "33a9cc42",
   "metadata": {},
   "outputs": [],
   "source": [
    "import matplotlib.pyplot as plt\n",
    "import seaborn as sns"
   ]
  },
  {
   "cell_type": "markdown",
   "id": "d161c7ea",
   "metadata": {},
   "source": [
    "# Model"
   ]
  },
  {
   "cell_type": "code",
   "execution_count": 2,
   "id": "d1f89d3e",
   "metadata": {},
   "outputs": [
    {
     "name": "stderr",
     "output_type": "stream",
     "text": [
      "/data/conda/mPLUG/lib/python3.10/site-packages/tqdm/auto.py:21: TqdmWarning: IProgress not found. Please update jupyter and ipywidgets. See https://ipywidgets.readthedocs.io/en/stable/user_install.html\n",
      "  from .autonotebook import tqdm as notebook_tqdm\n"
     ]
    },
    {
     "name": "stdout",
     "output_type": "stream",
     "text": [
      "install flash-attn first.\n"
     ]
    }
   ],
   "source": [
    "# Load via Huggingface Style\n",
    "\n",
    "pretrained_ckpt = 'MAGAer13/mplug-owl-llama-7b'\n",
    "model = MplugOwlForConditionalGeneration.from_pretrained(\n",
    "    pretrained_ckpt,\n",
    "    torch_dtype=torch.bfloat16,\n",
    ")\n",
    "image_processor = MplugOwlImageProcessor.from_pretrained(pretrained_ckpt)\n",
    "tokenizer = AutoTokenizer.from_pretrained(pretrained_ckpt)\n",
    "processor = MplugOwlProcessor(image_processor, tokenizer)"
   ]
  },
  {
   "cell_type": "code",
   "execution_count": 3,
   "id": "c799dcb7",
   "metadata": {},
   "outputs": [],
   "source": [
    "model = model.to('cuda')"
   ]
  },
  {
   "cell_type": "markdown",
   "id": "7bbacbdf",
   "metadata": {},
   "source": [
    "# Data"
   ]
  },
  {
   "cell_type": "code",
   "execution_count": 256,
   "id": "7c64026e",
   "metadata": {},
   "outputs": [],
   "source": [
    "json_file_path = '/data/peskine/hackathon/filtered_data.json'\n",
    "with open(json_file_path, 'r') as j:\n",
    "     contents = json.loads(j.read())"
   ]
  },
  {
   "cell_type": "code",
   "execution_count": 258,
   "id": "d75b505c",
   "metadata": {},
   "outputs": [
    {
     "data": {
      "text/plain": [
       "1101"
      ]
     },
     "execution_count": 258,
     "metadata": {},
     "output_type": "execute_result"
    }
   ],
   "source": [
    "len(contents)"
   ]
  },
  {
   "cell_type": "code",
   "execution_count": 252,
   "id": "d902fe1d",
   "metadata": {},
   "outputs": [],
   "source": [
    "filtered_data = {}\n",
    "for k in contents:\n",
    "    c = contents[k]\n",
    "    if len(c['wiki_abs'])>50 and 'movement' in c['props'] and c['props']['instance of'] == ['painting'] and 'creator' in c['props'] and 'made from material' in c['props']:\n",
    "        filtered_data[k] = c"
   ]
  },
  {
   "cell_type": "code",
   "execution_count": 255,
   "id": "fa8c18a0",
   "metadata": {},
   "outputs": [],
   "source": [
    "with open('/data/peskine/hackathon/filtered_data.json', 'w') as f:\n",
    "    json.dump(filtered_data, f)"
   ]
  },
  {
   "cell_type": "code",
   "execution_count": 304,
   "id": "3edd8edc",
   "metadata": {},
   "outputs": [
    {
     "name": "stderr",
     "output_type": "stream",
     "text": [
      "100%|██████████████████████████████████████████████| 1101/1101 [00:00<00:00, 607142.87it/s]\n"
     ]
    }
   ],
   "source": [
    "small_dataset = []\n",
    "\n",
    "available_movements = ['Baroque', 'mannerism', 'Romanticism', 'Impressionism', 'Realism']\n",
    "counts = [0, 0, 0, 0, 0]\n",
    "\n",
    "for c in tqdm(contents):\n",
    "    m = contents[c]['props']['movement']\n",
    "    \n",
    "    if m[0] in available_movements and len(m)==1:\n",
    "        i = available_movements.index(m[0])\n",
    "        if counts[i]<10:\n",
    "            small_dataset.append(c)\n",
    "            counts[i]+=1\n",
    "    "
   ]
  },
  {
   "cell_type": "markdown",
   "id": "8d21f7e4",
   "metadata": {},
   "source": [
    "# Download pictures"
   ]
  },
  {
   "cell_type": "code",
   "execution_count": 333,
   "id": "8658a6df",
   "metadata": {},
   "outputs": [
    {
     "name": "stderr",
     "output_type": "stream",
     "text": [
      "100%|██████████████████████████████████████████████████████| 50/50 [01:57<00:00,  2.36s/it]\n"
     ]
    }
   ],
   "source": [
    "for c in tqdm(small_dataset):\n",
    "    pic_url = contents[c]['pic']\n",
    "    \n",
    "    #if not os.path.isfile('/data/peskine/hackathon/images/'+str(c)+'.png'):\n",
    "    im = Image.open(urlopen(pic_url))\n",
    "    basewidth = 500\n",
    "    wpercent = (basewidth/float(im.size[0]))\n",
    "    hsize = int((float(im.size[1])*float(wpercent)))\n",
    "    img = im.resize((basewidth,hsize), Image.Resampling.LANCZOS)\n",
    "    img.save('/data/peskine/hackathon/images/'+str(c)+'.png')\n",
    "    \n",
    "    "
   ]
  },
  {
   "cell_type": "code",
   "execution_count": 317,
   "id": "2d7c5ee8",
   "metadata": {
    "scrolled": true
   },
   "outputs": [
    {
     "name": "stderr",
     "output_type": "stream",
     "text": [
      "  0%|                                                   | 2/1101 [00:10<1:32:16,  5.04s/it]\n"
     ]
    },
    {
     "ename": "KeyboardInterrupt",
     "evalue": "",
     "output_type": "error",
     "traceback": [
      "\u001b[0;31m---------------------------------------------------------------------------\u001b[0m",
      "\u001b[0;31mAttributeError\u001b[0m                            Traceback (most recent call last)",
      "File \u001b[0;32m/data/conda/mPLUG/lib/python3.10/site-packages/PIL/ImageFile.py:518\u001b[0m, in \u001b[0;36m_save\u001b[0;34m(im, fp, tile, bufsize)\u001b[0m\n\u001b[1;32m    517\u001b[0m \u001b[38;5;28;01mtry\u001b[39;00m:\n\u001b[0;32m--> 518\u001b[0m     fh \u001b[38;5;241m=\u001b[39m \u001b[43mfp\u001b[49m\u001b[38;5;241;43m.\u001b[39;49m\u001b[43mfileno\u001b[49m()\n\u001b[1;32m    519\u001b[0m     fp\u001b[38;5;241m.\u001b[39mflush()\n",
      "\u001b[0;31mAttributeError\u001b[0m: '_idat' object has no attribute 'fileno'",
      "\nDuring handling of the above exception, another exception occurred:\n",
      "\u001b[0;31mKeyboardInterrupt\u001b[0m                         Traceback (most recent call last)",
      "Cell \u001b[0;32mIn[317], line 6\u001b[0m\n\u001b[1;32m      4\u001b[0m \u001b[38;5;28;01mif\u001b[39;00m \u001b[38;5;129;01mnot\u001b[39;00m os\u001b[38;5;241m.\u001b[39mpath\u001b[38;5;241m.\u001b[39misfile(\u001b[38;5;124m'\u001b[39m\u001b[38;5;124m/data/peskine/hackathon/images/\u001b[39m\u001b[38;5;124m'\u001b[39m\u001b[38;5;241m+\u001b[39m\u001b[38;5;28mstr\u001b[39m(c)\u001b[38;5;241m+\u001b[39m\u001b[38;5;124m'\u001b[39m\u001b[38;5;124m.png\u001b[39m\u001b[38;5;124m'\u001b[39m):\n\u001b[1;32m      5\u001b[0m     image \u001b[38;5;241m=\u001b[39m Image\u001b[38;5;241m.\u001b[39mopen(urlopen(pic_url))\n\u001b[0;32m----> 6\u001b[0m     \u001b[43mimage\u001b[49m\u001b[38;5;241;43m.\u001b[39;49m\u001b[43msave\u001b[49m\u001b[43m(\u001b[49m\u001b[38;5;124;43m'\u001b[39;49m\u001b[38;5;124;43m/data/peskine/hackathon/images/\u001b[39;49m\u001b[38;5;124;43m'\u001b[39;49m\u001b[38;5;241;43m+\u001b[39;49m\u001b[38;5;28;43mstr\u001b[39;49m\u001b[43m(\u001b[49m\u001b[43mc\u001b[49m\u001b[43m)\u001b[49m\u001b[38;5;241;43m+\u001b[39;49m\u001b[38;5;124;43m'\u001b[39;49m\u001b[38;5;124;43m.png\u001b[39;49m\u001b[38;5;124;43m'\u001b[39;49m\u001b[43m)\u001b[49m\n",
      "File \u001b[0;32m/data/conda/mPLUG/lib/python3.10/site-packages/PIL/Image.py:2431\u001b[0m, in \u001b[0;36mImage.save\u001b[0;34m(self, fp, format, **params)\u001b[0m\n\u001b[1;32m   2428\u001b[0m         fp \u001b[38;5;241m=\u001b[39m builtins\u001b[38;5;241m.\u001b[39mopen(filename, \u001b[38;5;124m\"\u001b[39m\u001b[38;5;124mw+b\u001b[39m\u001b[38;5;124m\"\u001b[39m)\n\u001b[1;32m   2430\u001b[0m \u001b[38;5;28;01mtry\u001b[39;00m:\n\u001b[0;32m-> 2431\u001b[0m     \u001b[43msave_handler\u001b[49m\u001b[43m(\u001b[49m\u001b[38;5;28;43mself\u001b[39;49m\u001b[43m,\u001b[49m\u001b[43m \u001b[49m\u001b[43mfp\u001b[49m\u001b[43m,\u001b[49m\u001b[43m \u001b[49m\u001b[43mfilename\u001b[49m\u001b[43m)\u001b[49m\n\u001b[1;32m   2432\u001b[0m \u001b[38;5;28;01mexcept\u001b[39;00m \u001b[38;5;167;01mException\u001b[39;00m:\n\u001b[1;32m   2433\u001b[0m     \u001b[38;5;28;01mif\u001b[39;00m open_fp:\n",
      "File \u001b[0;32m/data/conda/mPLUG/lib/python3.10/site-packages/PIL/PngImagePlugin.py:1420\u001b[0m, in \u001b[0;36m_save\u001b[0;34m(im, fp, filename, chunk, save_all)\u001b[0m\n\u001b[1;32m   1418\u001b[0m     _write_multiple_frames(im, fp, chunk, rawmode, default_image, append_images)\n\u001b[1;32m   1419\u001b[0m \u001b[38;5;28;01melse\u001b[39;00m:\n\u001b[0;32m-> 1420\u001b[0m     \u001b[43mImageFile\u001b[49m\u001b[38;5;241;43m.\u001b[39;49m\u001b[43m_save\u001b[49m\u001b[43m(\u001b[49m\u001b[43mim\u001b[49m\u001b[43m,\u001b[49m\u001b[43m \u001b[49m\u001b[43m_idat\u001b[49m\u001b[43m(\u001b[49m\u001b[43mfp\u001b[49m\u001b[43m,\u001b[49m\u001b[43m \u001b[49m\u001b[43mchunk\u001b[49m\u001b[43m)\u001b[49m\u001b[43m,\u001b[49m\u001b[43m \u001b[49m\u001b[43m[\u001b[49m\u001b[43m(\u001b[49m\u001b[38;5;124;43m\"\u001b[39;49m\u001b[38;5;124;43mzip\u001b[39;49m\u001b[38;5;124;43m\"\u001b[39;49m\u001b[43m,\u001b[49m\u001b[43m \u001b[49m\u001b[43m(\u001b[49m\u001b[38;5;241;43m0\u001b[39;49m\u001b[43m,\u001b[49m\u001b[43m \u001b[49m\u001b[38;5;241;43m0\u001b[39;49m\u001b[43m)\u001b[49m\u001b[43m \u001b[49m\u001b[38;5;241;43m+\u001b[39;49m\u001b[43m \u001b[49m\u001b[43mim\u001b[49m\u001b[38;5;241;43m.\u001b[39;49m\u001b[43msize\u001b[49m\u001b[43m,\u001b[49m\u001b[43m \u001b[49m\u001b[38;5;241;43m0\u001b[39;49m\u001b[43m,\u001b[49m\u001b[43m \u001b[49m\u001b[43mrawmode\u001b[49m\u001b[43m)\u001b[49m\u001b[43m]\u001b[49m\u001b[43m)\u001b[49m\n\u001b[1;32m   1422\u001b[0m \u001b[38;5;28;01mif\u001b[39;00m info:\n\u001b[1;32m   1423\u001b[0m     \u001b[38;5;28;01mfor\u001b[39;00m info_chunk \u001b[38;5;129;01min\u001b[39;00m info\u001b[38;5;241m.\u001b[39mchunks:\n",
      "File \u001b[0;32m/data/conda/mPLUG/lib/python3.10/site-packages/PIL/ImageFile.py:522\u001b[0m, in \u001b[0;36m_save\u001b[0;34m(im, fp, tile, bufsize)\u001b[0m\n\u001b[1;32m    520\u001b[0m     _encode_tile(im, fp, tile, bufsize, fh)\n\u001b[1;32m    521\u001b[0m \u001b[38;5;28;01mexcept\u001b[39;00m (\u001b[38;5;167;01mAttributeError\u001b[39;00m, io\u001b[38;5;241m.\u001b[39mUnsupportedOperation) \u001b[38;5;28;01mas\u001b[39;00m exc:\n\u001b[0;32m--> 522\u001b[0m     \u001b[43m_encode_tile\u001b[49m\u001b[43m(\u001b[49m\u001b[43mim\u001b[49m\u001b[43m,\u001b[49m\u001b[43m \u001b[49m\u001b[43mfp\u001b[49m\u001b[43m,\u001b[49m\u001b[43m \u001b[49m\u001b[43mtile\u001b[49m\u001b[43m,\u001b[49m\u001b[43m \u001b[49m\u001b[43mbufsize\u001b[49m\u001b[43m,\u001b[49m\u001b[43m \u001b[49m\u001b[38;5;28;43;01mNone\u001b[39;49;00m\u001b[43m,\u001b[49m\u001b[43m \u001b[49m\u001b[43mexc\u001b[49m\u001b[43m)\u001b[49m\n\u001b[1;32m    523\u001b[0m \u001b[38;5;28;01mif\u001b[39;00m \u001b[38;5;28mhasattr\u001b[39m(fp, \u001b[38;5;124m\"\u001b[39m\u001b[38;5;124mflush\u001b[39m\u001b[38;5;124m\"\u001b[39m):\n\u001b[1;32m    524\u001b[0m     fp\u001b[38;5;241m.\u001b[39mflush()\n",
      "File \u001b[0;32m/data/conda/mPLUG/lib/python3.10/site-packages/PIL/ImageFile.py:541\u001b[0m, in \u001b[0;36m_encode_tile\u001b[0;34m(im, fp, tile, bufsize, fh, exc)\u001b[0m\n\u001b[1;32m    538\u001b[0m \u001b[38;5;28;01mif\u001b[39;00m exc:\n\u001b[1;32m    539\u001b[0m     \u001b[38;5;66;03m# compress to Python file-compatible object\u001b[39;00m\n\u001b[1;32m    540\u001b[0m     \u001b[38;5;28;01mwhile\u001b[39;00m \u001b[38;5;28;01mTrue\u001b[39;00m:\n\u001b[0;32m--> 541\u001b[0m         l, s, d \u001b[38;5;241m=\u001b[39m \u001b[43mencoder\u001b[49m\u001b[38;5;241;43m.\u001b[39;49m\u001b[43mencode\u001b[49m\u001b[43m(\u001b[49m\u001b[43mbufsize\u001b[49m\u001b[43m)\u001b[49m\n\u001b[1;32m    542\u001b[0m         fp\u001b[38;5;241m.\u001b[39mwrite(d)\n\u001b[1;32m    543\u001b[0m         \u001b[38;5;28;01mif\u001b[39;00m s:\n",
      "\u001b[0;31mKeyboardInterrupt\u001b[0m: "
     ]
    }
   ],
   "source": [
    "for c in tqdm(contents):\n",
    "    pic_url = contents[c]['pic']\n",
    "    \n",
    "    if not os.path.isfile('/data/peskine/hackathon/images/'+str(c)+'.png'):\n",
    "        image = Image.open(urlopen(pic_url))\n",
    "        image.save('/data/peskine/hackathon/images/'+str(c)+'.png')\n",
    "    \n",
    "    "
   ]
  },
  {
   "cell_type": "code",
   "execution_count": null,
   "id": "f59723e3",
   "metadata": {},
   "outputs": [],
   "source": []
  },
  {
   "cell_type": "markdown",
   "id": "4246acf2",
   "metadata": {},
   "source": [
    "# Prompt"
   ]
  },
  {
   "cell_type": "code",
   "execution_count": 307,
   "id": "97df0312",
   "metadata": {},
   "outputs": [],
   "source": [
    "relations = ['creator', 'movement'] #fabrication method, made from material"
   ]
  },
  {
   "cell_type": "code",
   "execution_count": 308,
   "id": "ea3659c5",
   "metadata": {},
   "outputs": [],
   "source": [
    "prompt_dict = {}\n",
    "prompt_dict['movement'] = \"Which movement does this painting belong to?\"\n",
    "prompt_dict['creator'] = \"Who painted this painting?\"\n",
    "#prompt_dict['made from material'] = \"Which material does this painting use? (e.g. oil paint, canvas, wax paint, ink, marble, bronze, etc)\""
   ]
  },
  {
   "cell_type": "code",
   "execution_count": null,
   "id": "7096e272",
   "metadata": {
    "scrolled": true
   },
   "outputs": [
    {
     "name": "stderr",
     "output_type": "stream",
     "text": [
      " 62%|█████████████████████████████████▍                    | 31/50 [00:20<00:13,  1.43it/s]"
     ]
    }
   ],
   "source": [
    "download_required = False\n",
    "\n",
    "technique = 'both' #image, both, text\n",
    "for r in relations:\n",
    "    replies = []\n",
    "    gt = []\n",
    "    prompt_list = []\n",
    "    Qs = []\n",
    "    for c in tqdm(small_dataset):\n",
    "        Qs.append(c)\n",
    "        # We use a human/AI template to organize the context as a multi-turn conversation.\n",
    "        # <image> denotes an image placehold.\n",
    "        if technique == 'image':\n",
    "            prompts = [\n",
    "            '''The following is a conversation between a curious human and an art historian assistant about paintings. The art historian gives helpful, detailed, and polite answers to the user's questions.\n",
    "Human: <image>\n",
    "Human: %s\n",
    "Art Historian: '''%(prompt_dict[r])]\n",
    "        elif technique == 'text':\n",
    "            prompts = [\n",
    "            '''The following is a conversation between a curious human and an art historian assistant about paintings. The art historian gives helpful, detailed, and polite answers to the user's questions.\n",
    "Painting info: %s\n",
    "Human: %s\n",
    "Art Historian: '''%(contents[c]['wiki_abs'], prompt_dict[r])]\n",
    "            \n",
    "        elif technique == 'both':\n",
    "            prompts = [\n",
    "            '''The following is a conversation between a curious human and an art historian assistant about paintings. The art historian gives helpful, detailed, and polite answers to the user's questions.\n",
    "Painting info: %s\n",
    "Human: <image>\n",
    "Human: %s\n",
    "Art Historian: '''%(contents[c]['wiki_abs'], prompt_dict[r])]            \n",
    "        # The image paths should be placed in the image_list and kept in the same order as in the prompts.\n",
    "        # We support urls, local file paths and base64 string. You can custom the pre-process of images by modifying the mplug_owl.modeling_mplug_owl.ImageProcessor\n",
    "        \n",
    "        # generate kwargs (the same in transformers) can be passed in the do_generate()\n",
    "        generate_kwargs = {\n",
    "            'do_sample': True,\n",
    "            'top_k': 5,\n",
    "            'temperature':0.01,\n",
    "            'max_length': 512\n",
    "        }\n",
    "        prompt_list.append(prompts[0])\n",
    "        if download_required:\n",
    "            im = Image.open(urlopen(contents[c]['pic']))\n",
    "            basewidth = 500\n",
    "            wpercent = (basewidth/float(im.size[0]))\n",
    "            hsize = int((float(im.size[1])*float(wpercent)))\n",
    "            img = im.resize((basewidth,hsize), Image.Resampling.LANCZOS)\n",
    "        else:\n",
    "            im = Image.open('/data/peskine/hackathon/images/'+str(c)+'.png')\n",
    "            basewidth = 500\n",
    "            wpercent = (basewidth/float(im.size[0]))\n",
    "            hsize = int((float(im.size[1])*float(wpercent)))\n",
    "            img = im.resize((basewidth,hsize), Image.Resampling.LANCZOS)\n",
    "        images = [img]\n",
    "        inputs = processor(text=prompts, images=images, return_tensors='pt')\n",
    "        inputs = {k: v.bfloat16() if v.dtype == torch.float else v for k, v in inputs.items()}\n",
    "        inputs = {k: v.to(model.device) for k, v in inputs.items()}\n",
    "        with torch.no_grad():\n",
    "            res = model.generate(**inputs, **generate_kwargs)\n",
    "        sentence = tokenizer.decode(res.tolist()[0], skip_special_tokens=True)\n",
    "        replies.append(sentence)\n",
    "    df = pd.DataFrame()\n",
    "    df['Q'] = Qs\n",
    "    df['prompts'] = prompt_list\n",
    "    df['replies'] = replies\n",
    "    \n",
    "    df.to_csv('/data/peskine/hackathon/results/'+str(technique)+'/'+str(r)+'.csv', index=False)\n"
   ]
  },
  {
   "cell_type": "code",
   "execution_count": 428,
   "id": "e33f5613",
   "metadata": {},
   "outputs": [],
   "source": [
    "movements = [['Baroque'], ['mannerism', 'Mannerism'], ['Romanticism', 'Romantic'], ['Impressionism', 'Impressionist'], ['Realism', 'Realist']]"
   ]
  },
  {
   "cell_type": "code",
   "execution_count": 470,
   "id": "18f30f13",
   "metadata": {
    "scrolled": true
   },
   "outputs": [
    {
     "name": "stderr",
     "output_type": "stream",
     "text": [
      "100%|██████████████████████████████████████████████████| 50/50 [00:00<00:00, 247597.64it/s]"
     ]
    },
    {
     "name": "stdout",
     "output_type": "stream",
     "text": [
      "movement 0.68\n"
     ]
    },
    {
     "name": "stderr",
     "output_type": "stream",
     "text": [
      "\n"
     ]
    }
   ],
   "source": [
    "movements = [['Baroque'], ['mannerism', 'Mannerism'], ['Romanticism', 'Romantic'], ['Impressionism', 'Impressionist'], ['Realism', 'Realist']]\n",
    "technique = 'both' #text, image, both\n",
    "\n",
    "for r in relations[1:]:\n",
    "    gt = []\n",
    "    for c in tqdm(small_dataset):\n",
    "        gt.append(contents[c]['props'][r])\n",
    "        \n",
    "    df = pd.read_csv('/data/peskine/hackathon/results/'+technique+'/'+str(r)+'.csv')\n",
    "    replies = df['replies'].tolist()\n",
    "    \n",
    "    answers = []\n",
    "    for i in range(0, len(replies)):\n",
    "        a = []\n",
    "        for g in gt[i]:\n",
    "            m_ind = available_movements.index(g)\n",
    "            for m in movements[m_ind]:\n",
    "                if m in replies[i]:\n",
    "                    a.append(g)\n",
    "                    break\n",
    "        answers.append(a)\n",
    "    \n",
    "    correct =0\n",
    "    for i in range(0, len(answers)):\n",
    "        if answers[i] == gt[i]:\n",
    "            correct+=1\n",
    "        \n",
    "    print(r, correct/len(small_dataset))"
   ]
  },
  {
   "cell_type": "code",
   "execution_count": 422,
   "id": "192b5f9a",
   "metadata": {
    "scrolled": true
   },
   "outputs": [],
   "source": [
    "df = pd.read_csv('/data/peskine/hackathon/results/image/movement.csv')"
   ]
  },
  {
   "cell_type": "code",
   "execution_count": 426,
   "id": "03588e5b",
   "metadata": {
    "scrolled": true
   },
   "outputs": [
    {
     "name": "stdout",
     "output_type": "stream",
     "text": [
      "['Impressionism'] This painting belongs to the Post-Impressionist movement.\n",
      "['Impressionism'] This painting belongs to the Impressionist movement.\n",
      "['Romanticism'] This painting belongs to the Romantic movement, which was a period in Western art history that emphasized emotion, imagination, and individualism. The painting features a scene of a battle, with a group of people in the foreground and a large group of soldiers in the background. The Romantic movement was known for its focus on dramatic and expressive subject matter, and this painting captures the intensity and chaos of a battle scene.\n",
      "['Romanticism'] This painting belongs to the Neoclassical movement.\n",
      "['Realism'] This painting belongs to the Impressionist movement.\n",
      "['Impressionism'] This painting belongs to the Impressionist movement.\n",
      "['mannerism'] This painting belongs to the Renaissance movement.\n",
      "['mannerism'] This painting belongs to the Renaissance movement.\n",
      "['Romanticism'] This painting belongs to the Rococo movement, which was a European art style that flourished in the 18th century. The painting features a young boy dressed in a blue suit, standing in a landscape setting. The Rococo style is characterized by its elaborate decoration, light colors, and graceful poses. The painting's subject matter, the young boy, also reflects the Rococo's focus on the portrayal of youth and innocence.\n",
      "['Impressionism'] This painting belongs to the Impressionist movement.\n",
      "['Romanticism'] This painting belongs to the Romantic movement, which was a period in art history that emphasized emotional expression, imagination, and the sublime. The painting features a lush, green forest landscape with a large tree in the center, surrounded by smaller trees and shrubs. The atmosphere is enhanced by the misty, foggy conditions, which contribute to the sense of mystery and the sublime. The Romantic movement was characterized by a focus on nature and the human experience, and this painting captures the beauty and serenity of the natural world.\n",
      "['Romanticism'] This painting belongs to the Romantic movement, which was a period in art history that emphasized emotional expression, imagination, and a connection with nature. The painting features a forest scene with a horse-drawn wagon traveling along a dirt road, surrounded by trees and mountains. The Romantic movement was characterized by a focus on capturing the beauty and grandeur of nature, as well as the emotional response it evoked in the viewer. The painting's use of light, color, and composition to create a sense of serenity and tranquility also reflects the Romantic movement's emphasis on the sublime and the power of nature.\n",
      "['Realism'] This painting belongs to the Impressionist movement.\n",
      "['Romanticism'] This painting belongs to the Baroque movement.\n",
      "['mannerism'] This painting belongs to the Baroque movement, which was a period of artistic expression that flourished in Europe from the 16th to the 18th centuries. The Baroque style is characterized by its dramatic, emotional, and exaggerated qualities, often using vivid colors, elaborate compositions, and realistic or idealized figures. The painting features a man and a woman, both of whom are wearing elaborate clothing and posing in a manner that suggests a sense of grandeur and opulence. The painting also includes a dog and a baby, which adds to the sense of intimacy and domesticity in the scene.\n",
      "['Romanticism'] This painting belongs to the Romantic movement, which was a period in art history that emphasized emotion, imagination, and individualism. The painting features a man riding a horse, which is a common subject matter in Romantic art. The man is dressed in a military uniform, which adds a sense of drama and heroism to the scene. The horse is galloping, creating a dynamic and energetic composition. The overall atmosphere of the painting is one of adventure, excitement, and passion, which are common themes in Romantic art.\n",
      "['Impressionism'] This painting belongs to the Impressionist movement.\n",
      "['Romanticism'] This painting belongs to the Neoclassical movement, which was a revival of classical art and architecture during the 18th and 19th centuries. The painting depicts a scene from the coronation of Napoleon Bonaparte, which took place in Notre-Dame Cathedral in Paris on December 2, 1804. The painting captures the grandeur and importance of the event, with Napoleon and his wife, Josephine, seated on thrones in the center of the cathedral. The painting also features a large crowd of people gathered around the couple, creating a sense of excitement and celebration.\n",
      "['Impressionism'] This painting belongs to the Impressionist movement.\n",
      "['Romanticism'] This painting belongs to the Romantic movement, which was a period in art history that emphasized emotional expression, imagination, and individualism. The painting features a young woman with her head turned, looking out into the distance, which is a common theme in Romantic art. The use of light and shadow, as well as the subject matter, contribute to the overall mood and atmosphere of the painting, which is often characterized by a sense of longing, melancholy, and nostalgia.\n",
      "['Impressionism'] This painting belongs to the Impressionist movement.\n",
      "['Romanticism'] This painting belongs to the Romantic movement, which was a period in art history that emphasized emotion, imagination, and individualism. The painting depicts a woman holding a flag, surrounded by a group of people, including soldiers, who are fighting for their freedom. The scene is set in a city, with buildings in the background, which adds to the sense of urgency and drama. The Romantic movement was known for its focus on capturing the emotions and passions of the artist and the subject, and this painting certainly embodies that spirit.\n",
      "['mannerism'] This painting belongs to the Renaissance movement.\n",
      "['Impressionism'] This painting belongs to the Impressionist movement.\n",
      "['Realism'] This painting belongs to the Baroque movement.\n",
      "['Impressionism'] This painting belongs to the Impressionist movement.\n",
      "['Impressionism'] This painting belongs to the Impressionist movement.\n",
      "['Realism'] This painting belongs to the Impressionist movement.\n",
      "['mannerism'] This painting belongs to the Renaissance movement.\n",
      "['Realism'] This painting belongs to the Romantic movement.\n",
      "['mannerism'] This painting belongs to the Renaissance movement.\n",
      "['mannerism'] This painting belongs to the Baroque movement, which was a period of artistic expression that flourished in Europe from the late 16th to the early 18th century. The Baroque style is characterized by its dramatic, emotional, and exaggerated qualities, often using vivid colors, complex compositions, and realistic details to create a sense of movement and energy. The painting features a man wearing a fur-trimmed robe, which is a typical Baroque fashion element.\n",
      "['mannerism'] This painting belongs to the Renaissance movement, which was a period of artistic, cultural, and intellectual development in Europe from the 14th to the 16th centuries. During this time, artists and thinkers began to explore new techniques, styles, and subjects, resulting in a rich and diverse body of work. The Renaissance movement was characterized by a renewed interest in classical antiquity, as well as the use of perspective, realism, and naturalistic depictions of the human form. The painting features a muscular man with a beard, wearing a toga, and holding a trident, which is a symbol of power and authority in ancient Greece and Rome. This combination of classical elements and realistic depiction of the human form is typical of Renaissance art.\n",
      "['mannerism'] This painting belongs to the Renaissance movement.\n",
      "['mannerism'] This painting belongs to the Baroque movement.\n",
      "['Realism'] This painting belongs to the Romantic movement, which was a period in art history that emphasized emotion, imagination, and individualism. The painting features a rowing team on a river, with the sun shining brightly in the background. The scene is filled with lush greenery and a sense of serenity, which is characteristic of Romantic art. The painting captures the beauty and tranquility of nature, and the rowers' effort and skill are highlighted in the scene.\n",
      "['Realism'] This painting belongs to the Impressionist movement.\n",
      "['Realism'] This painting belongs to the Impressionist movement.\n",
      "['Realism'] This painting belongs to the Impressionist movement.\n",
      "['Realism'] This painting belongs to the Impressionist movement.\n"
     ]
    }
   ],
   "source": [
    "r = df['replies'].tolist()\n",
    "for i in range(0, len(small_dataset)):\n",
    "    data = contents[small_dataset[i]]['props']['movement']\n",
    "    if data[0] not in r[i]:\n",
    "        print(data, r[i])\n"
   ]
  },
  {
   "cell_type": "code",
   "execution_count": 231,
   "id": "f8e68c95",
   "metadata": {},
   "outputs": [],
   "source": [
    "filtered_c = []\n",
    "for c in contents:\n",
    "    l = c['props']['instance of']\n",
    "    if 'painting' in l and len(l)<2:\n",
    "        filtered_c.append(c)"
   ]
  },
  {
   "cell_type": "code",
   "execution_count": 272,
   "id": "550b18cb",
   "metadata": {},
   "outputs": [],
   "source": [
    "all_movements = {}\n",
    "for c in contents:\n",
    "    for m in contents[c]['props']['made from material']:\n",
    "        if m in all_movements:\n",
    "            all_movements[m]+=1\n",
    "        else:\n",
    "            all_movements[m]=1\n",
    "            \n"
   ]
  },
  {
   "cell_type": "code",
   "execution_count": 273,
   "id": "80518c22",
   "metadata": {},
   "outputs": [],
   "source": [
    "movements_sorted = dict(sorted(all_movements.items(), key=lambda item: item[1], reverse=True))"
   ]
  },
  {
   "cell_type": "code",
   "execution_count": 275,
   "id": "4e12cf91",
   "metadata": {
    "scrolled": true
   },
   "outputs": [
    {
     "data": {
      "text/plain": [
       "<Axes: title={'center': 'made from material counts'}, xlabel='made from material', ylabel='count'>"
      ]
     },
     "execution_count": 275,
     "metadata": {},
     "output_type": "execute_result"
    },
    {
     "data": {
      "image/png": "[encoded data removed]",
      "text/plain": [
       "<Figure size 640x480 with 1 Axes>"
      ]
     },
     "metadata": {},
     "output_type": "display_data"
    }
   ],
   "source": [
    "tmp = pd.DataFrame()\n",
    "r = 'made from material'\n",
    "\n",
    "tmp[r] = [k for k in movements_sorted]\n",
    "tmp['count'] = [movements_sorted[k] for k in movements_sorted]\n",
    "tmp = tmp[tmp['count']>8]\n",
    "plt.xticks(rotation=90)\n",
    "plt.title(r+' counts')\n",
    "sns.barplot(data=tmp, x=r, y=\"count\")"
   ]
  },
  {
   "cell_type": "markdown",
   "id": "aa163f85",
   "metadata": {},
   "source": [
    "# Demo"
   ]
  },
  {
   "cell_type": "code",
   "execution_count": 495,
   "id": "a853eba1",
   "metadata": {
    "scrolled": true
   },
   "outputs": [
    {
     "name": "stdout",
     "output_type": "stream",
     "text": [
      "\tRELATION creator\n",
      "The painting was created by an unknown artist.\n",
      "\tRELATION movement\n",
      "This painting belongs to the Baroque movement, which was a period of artistic expression that flourished in Europe from the late 16th to the early 18th century. The Baroque style is characterized by its dramatic, emotional, and exaggerated visual elements, often using vivid colors, intense lighting, and complex compositions. The painting features a man in a red robe, who is surrounded by a dog and a woman, both of whom are looking upwards. The scene is set in a room with a window, and the man is holding a sword. The overall composition and the use of lighting and color in the painting reflect the Baroque style.\n"
     ]
    }
   ],
   "source": [
    "url = \"https://lh3.googleusercontent.com/ci/AA1T9HIalLIKg5EAI63qeL1n_cTJFm-4Ytxbrj70FtzblPhgT7UG6AbP6xEQck0D1EDBi_zVgy4AYQ=s1200\"\n",
    "abstract = \"\"\n",
    "\n",
    "technique = 'image'\n",
    "for r in relations:\n",
    "    print('\\tRELATION', r)\n",
    "    if technique == 'image':\n",
    "        prompts = [\n",
    "        '''The following is a conversation between a curious human and an art historian assistant about paintings. The art historian gives helpful, detailed, and polite answers to the user's questions.\n",
    "Human: <image>\n",
    "Human: %s\n",
    "Art Historian: '''%(prompt_dict[r])]\n",
    "    elif technique == 'text':\n",
    "        prompts = [\n",
    "        '''The following is a conversation between a curious human and an art historian assistant about paintings. The art historian gives helpful, detailed, and polite answers to the user's questions.\n",
    "Painting info: %s\n",
    "Human: %s\n",
    "Art Historian: '''%(abstract, prompt_dict[r])]\n",
    "\n",
    "    elif technique == 'both':\n",
    "        prompts = [\n",
    "        '''The following is a conversation between a curious human and an art historian assistant about paintings. The art historian gives helpful, detailed, and polite answers to the user's questions.\n",
    "Painting info: %s\n",
    "Human: <image>\n",
    "Human: %s\n",
    "Art Historian: '''%(abstract, prompt_dict[r])]            \n",
    "    # The image paths should be placed in the image_list and kept in the same order as in the prompts.\n",
    "    # We support urls, local file paths and base64 string. You can custom the pre-process of images by modifying the mplug_owl.modeling_mplug_owl.ImageProcessor\n",
    "\n",
    "    # generate kwargs (the same in transformers) can be passed in the do_generate()\n",
    "    generate_kwargs = {\n",
    "        'do_sample': True,\n",
    "        'top_k': 5,\n",
    "        'temperature':0.01,\n",
    "        'max_length': 512\n",
    "    }\n",
    "    im = Image.open(urlopen(url))\n",
    "    basewidth = 1024\n",
    "    wpercent = (basewidth/float(im.size[0]))\n",
    "    hsize = int((float(im.size[1])*float(wpercent)))\n",
    "    img = im.resize((basewidth,hsize), Image.Resampling.LANCZOS)\n",
    "    inputs = processor(text=prompts, images=[img], return_tensors='pt')\n",
    "    inputs = {k: v.bfloat16() if v.dtype == torch.float else v for k, v in inputs.items()}\n",
    "    inputs = {k: v.to(model.device) for k, v in inputs.items()}\n",
    "    with torch.no_grad():\n",
    "        res = model.generate(**inputs, **generate_kwargs)\n",
    "    sentence = tokenizer.decode(res.tolist()[0], skip_special_tokens=True)\n",
    "    print(sentence)"
   ]
  },
  {
   "cell_type": "code",
   "execution_count": null,
   "id": "75f975a3",
   "metadata": {},
   "outputs": [],
   "source": []
  }
 ],
 "metadata": {
  "kernelspec": {
   "display_name": "Python 3 (ipykernel)",
   "language": "python",
   "name": "python3"
  },
  "language_info": {
   "codemirror_mode": {
    "name": "ipython",
    "version": 3
   },
   "file_extension": ".py",
   "mimetype": "text/x-python",
   "name": "python",
   "nbconvert_exporter": "python",
   "pygments_lexer": "ipython3",
   "version": "3.10.12"
  }
 },
 "nbformat": 4,
 "nbformat_minor": 5
}
